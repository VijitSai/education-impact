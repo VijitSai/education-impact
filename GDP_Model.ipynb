{
  "nbformat": 4,
  "nbformat_minor": 0,
  "metadata": {
    "colab": {
      "name": "GDP_Model.ipynb",
      "provenance": [],
      "collapsed_sections": [],
      "include_colab_link": true
    },
    "kernelspec": {
      "name": "python3",
      "display_name": "Python 3"
    },
    "language_info": {
      "name": "python"
    }
  },
  "cells": [
    {
      "cell_type": "markdown",
      "metadata": {
        "id": "view-in-github",
        "colab_type": "text"
      },
      "source": [
        "<a href=\"https://colab.research.google.com/github/VijitSai/education-impact/blob/master/GDP_Model.ipynb\" target=\"_parent\"><img src=\"https://colab.research.google.com/assets/colab-badge.svg\" alt=\"Open In Colab\"/></a>"
      ]
    },
    {
      "cell_type": "code",
      "metadata": {
        "colab": {
          "base_uri": "https://localhost:8080/"
        },
        "id": "_5tBhvAJeBj7",
        "outputId": "5ade85c5-3e4a-4c79-8ce3-fcaea56b3916"
      },
      "source": [
        "!rm -rf education-impact\n",
        "!rm education-impact"
      ],
      "execution_count": null,
      "outputs": [
        {
          "output_type": "stream",
          "name": "stdout",
          "text": [
            "rm: cannot remove 'education-impact': No such file or directory\n"
          ]
        }
      ]
    },
    {
      "cell_type": "code",
      "metadata": {
        "id": "WLCGn-YlJ5k5",
        "colab": {
          "base_uri": "https://localhost:8080/"
        },
        "outputId": "b17b01d2-f3be-4684-df49-e821937d1d26"
      },
      "source": [
        "!git clone https://github.com/jaya-shankar/education-impact.git\n"
      ],
      "execution_count": null,
      "outputs": [
        {
          "output_type": "stream",
          "name": "stdout",
          "text": [
            "Cloning into 'education-impact'...\n",
            "remote: Enumerating objects: 258, done.\u001b[K\n",
            "remote: Counting objects: 100% (258/258), done.\u001b[K\n",
            "remote: Compressing objects: 100% (217/217), done.\u001b[K\n",
            "remote: Total 258 (delta 121), reused 132 (delta 38), pack-reused 0\u001b[K\n",
            "Receiving objects: 100% (258/258), 1.81 MiB | 17.49 MiB/s, done.\n",
            "Resolving deltas: 100% (121/121), done.\n"
          ]
        }
      ]
    },
    {
      "cell_type": "code",
      "metadata": {
        "id": "Jo8dc6Xv7sPc"
      },
      "source": [
        "!pip install tensorflow_decision_forests\n",
        "!pip install wurlitzer"
      ],
      "execution_count": null,
      "outputs": []
    },
    {
      "cell_type": "code",
      "metadata": {
        "id": "mHtPKJNNQ7Zv",
        "cellView": "code"
      },
      "source": [
        "#@title Default title text\n",
        "root = \"education-impact/\" \n",
        "datasets_path = {\n",
        "                    \"infant_mortality\"              :  root+ \"datasets/Infant_Mortality_Rate.csv\",\n",
        "                    \"child_mortality\"               :  root+ \"datasets/child_mortality_0_5_year_olds_dying_per_1000_born.csv\",\n",
        "                    \"children_per_woman\"            :  root+ \"datasets/children_per_woman_total_fertility.csv\",\n",
        "                    \"co2_emissions\"                 :  root+\"datasets/co2_emissions_tonnes_per_person.csv\",\n",
        "                    \"population\"                    :  root+ \"datasets/converted_pop.csv\",\n",
        "                    \"food_supply\"                   :  root+ \"datasets/food_supply_kilocalories_per_person_and_day.csv\",\n",
        "                    \"gdp_per_captia\"                :  root+ \"datasets/gdp_per_capita_yearly_growth.csv\",\n",
        "                    \"Avg_daily_income_ppp\"          :  root+ \"datasets/mincpcap_cppp.csv\",\n",
        "                    \"gini_index\"                    :  root+ \"datasets/gini.csv\",\n",
        "                    \"life_expectancy\"               :  root+ \"datasets/life_expectancy_years.csv\",\n",
        "                    \"malnutrition\"                  :  root+ \"datasets/malnutrition_weight_for_age_percent_of_children_under_5.csv\",\n",
        "                    \"poverty_index\"                 :  root+ \"datasets/mincpcap_cppp.csv\",\n",
        "                    \"maternal_mortality\"            :  root+ \"datasets/mmr_who.csv\",\n",
        "                    \"people_in_poverty\"             :  root+ \"datasets/number_of_people_in_poverty.csv\",\n",
        "                    \"primary_completion\"            :  root+ \"datasets/primary_school_completion_percent_of_girls.csv\",\n",
        "                    \"ratio_b/g_in_primary\"          :  root+ \"datasets/ratio_of_girls_to_boys_in_primary_and_secondary_education_perc.csv\",\n",
        "                    \"wcde-25--34\"                   :  root+ \"datasets/wcde-25--34.csv\",\n",
        "                    \"wcde-Incomplete_Primary\"       :  root+ \"datasets/wcde-Incomplete Primary.csv\",\n",
        "                    \"wcde-Lower_Secondary\"          :  root+ \"datasets/wcde-Lower Secondary.csv\",\n",
        "                    \"wcde-Post_Secondary\"           :  root+ \"datasets/wcde-Post Secondary.csv\",\n",
        "                    \"wcde_female-Incomplete_Primary\":  root+ \"datasets/wcde_female-Incomplete Primary.csv\",\n",
        "                    \"wcde_female-Lower_Secondary\"   :  root+ \"datasets/wcde_female-Lower Secondary.csv\",\n",
        "                    \"wcde_female-Post_Secondary\"    :  root+ \"datasets/wcde_female-Post Secondary.csv\",\n",
        "                }"
      ],
      "execution_count": null,
      "outputs": []
    },
    {
      "cell_type": "markdown",
      "metadata": {
        "id": "V7-wJ40noBSJ"
      },
      "source": [
        "Change"
      ]
    },
    {
      "cell_type": "code",
      "metadata": {
        "id": "zQlw2De3EPX-"
      },
      "source": [
        "datasets = [\n",
        "            \"infant_mortality\",\n",
        "            \"life_expectancy\",\n",
        "            \"child_mortality\",\n",
        "            \"co2_emissions\",\n",
        "            \"Avg_daily_income_ppp\",\n",
        "            \"wcde-Incomplete_Primary\",\n",
        "            \"wcde-Lower_Secondary\",\n",
        "            \"population\",\n",
        "            \"wcde_female-Lower_Secondary\"\n",
        "            ]"
      ],
      "execution_count": null,
      "outputs": []
    },
    {
      "cell_type": "markdown",
      "metadata": {
        "id": "x02cRl0aoHVB"
      },
      "source": [
        "Change"
      ]
    },
    {
      "cell_type": "code",
      "metadata": {
        "id": "lEv-zMFlFgCm"
      },
      "source": [
        "PREDICT_FUTURE  = 10\n",
        "OUTPUTS         = ['life_expectancy']\n",
        "                   "
      ],
      "execution_count": null,
      "outputs": []
    },
    {
      "cell_type": "code",
      "metadata": {
        "id": "UNc6Or80qBwS",
        "colab": {
          "base_uri": "https://localhost:8080/"
        },
        "outputId": "7d05f28d-4712-46c8-b21b-4208dfbeda3a"
      },
      "source": [
        "import pandas as pd\n",
        "import numpy as np\n",
        "import math\n",
        "import tensorflow_decision_forests as tfdf\n",
        "from sklearn.model_selection import train_test_split\n",
        "from wurlitzer import sys_pipes"
      ],
      "execution_count": null,
      "outputs": [
        {
          "output_type": "stream",
          "name": "stderr",
          "text": [
            "WARNING:root:Failure to load the custom c++ tensorflow ops. This error is likely caused the version of TensorFlow and TensorFlow Decision Forests are not compatible.\n",
            "WARNING:root:TF Parameter Server distributed training not available.\n"
          ]
        }
      ]
    },
    {
      "cell_type": "code",
      "metadata": {
        "id": "PWHauD_9RN8n",
        "colab": {
          "base_uri": "https://localhost:8080/"
        },
        "outputId": "0e98a943-2bdc-4025-97f5-a36fadfcf376"
      },
      "source": [
        "# to find out how many countries each dataset has\n",
        "countries_arr = []\n",
        "for path in datasets_path:\n",
        "  df = pd.read_csv(datasets_path[path])\n",
        "  print(f\"{'Factor: ' + path:<30} count: {len(set(df.Country.unique()))}\")\n",
        "  "
      ],
      "execution_count": null,
      "outputs": [
        {
          "output_type": "stream",
          "name": "stdout",
          "text": [
            "Factor: infant_mortality       count: 266\n",
            "Factor: child_mortality        count: 197\n",
            "Factor: children_per_woman     count: 202\n",
            "Factor: co2_emissions          count: 194\n",
            "Factor: population             count: 197\n",
            "Factor: food_supply            count: 179\n",
            "Factor: gdp_per_captia         count: 221\n",
            "Factor: Avg_daily_income_ppp   count: 195\n",
            "Factor: gini_index             count: 195\n",
            "Factor: life_expectancy        count: 195\n",
            "Factor: malnutrition           count: 156\n",
            "Factor: poverty_index          count: 195\n",
            "Factor: maternal_mortality     count: 184\n",
            "Factor: people_in_poverty      count: 145\n",
            "Factor: primary_completion     count: 195\n",
            "Factor: ratio_b/g_in_primary   count: 200\n",
            "Factor: wcde-25--34            count: 202\n",
            "Factor: wcde-Incomplete_Primary count: 202\n",
            "Factor: wcde-Lower_Secondary   count: 202\n",
            "Factor: wcde-Post_Secondary    count: 202\n",
            "Factor: wcde_female-Incomplete_Primary count: 202\n",
            "Factor: wcde_female-Lower_Secondary count: 202\n",
            "Factor: wcde_female-Post_Secondary count: 202\n"
          ]
        }
      ]
    },
    {
      "cell_type": "markdown",
      "metadata": {
        "id": "pavoB83cgMS_"
      },
      "source": [
        "from the above output\n",
        "- **malnutrition & people in povery** have least no of countries\n",
        "- **infant mortality & gdp per captia** have highest no of countries\n",
        "\n",
        "*Doubt:* Does having more data for one factor will make the decision tree bias?\n"
      ]
    },
    {
      "cell_type": "markdown",
      "metadata": {
        "id": "26MX_yiOLQM1"
      },
      "source": [
        "###Steps\n",
        "1. create a csv file such that each row contains all values of particular year & country present\n",
        "2. the output for each row is year + 40 years corresponding value \n",
        "    1. **outputs** - life expectany, education level, gdp\n",
        "\n",
        "\n"
      ]
    },
    {
      "cell_type": "code",
      "metadata": {
        "id": "6lCbc1WbKgia"
      },
      "source": [
        "# creating a list of all countries & years   Change\n",
        "countries = list(pd.read_csv('education-impact/datasets/Infant_Mortality_Rate.csv').Country.unique())\n",
        "years     = [y for y in range(1960,2015-PREDICT_FUTURE+1)]"
      ],
      "execution_count": null,
      "outputs": []
    },
    {
      "cell_type": "code",
      "metadata": {
        "id": "zcGs5bV_OlyL"
      },
      "source": [
        "keys=[]\n",
        "for y in years:\n",
        "  for c in countries:\n",
        "    keys.append((c,str(y)))"
      ],
      "execution_count": null,
      "outputs": []
    },
    {
      "cell_type": "code",
      "metadata": {
        "id": "GF8pxSpGlaKM"
      },
      "source": [
        "big_dic = {k : [] for k in keys}\n",
        "for dataset in datasets:\n",
        "  df = pd.read_csv(datasets_path[dataset])\n",
        "  df.set_index(\"Country\", inplace=True)\n",
        "  for k in keys:\n",
        "    try:\n",
        "      big_dic[k].append(df.loc[k[0]][k[1]])\n",
        "    except:\n",
        "      big_dic[k].append(np.NaN)\n",
        " "
      ],
      "execution_count": null,
      "outputs": []
    },
    {
      "cell_type": "code",
      "metadata": {
        "id": "NgqcguWjsUGI"
      },
      "source": [
        "for output_path in OUTPUTS:\n",
        "  df = pd.read_csv(datasets_path[output_path])\n",
        "  df.set_index(\"Country\", inplace=True)\n",
        "  for k in keys:\n",
        "    try:\n",
        "      big_dic[k].append(df.loc[k[0]][str(int(k[1])+PREDICT_FUTURE)])\n",
        "    except:\n",
        "      big_dic[k].append(np.NaN)"
      ],
      "execution_count": null,
      "outputs": []
    },
    {
      "cell_type": "code",
      "metadata": {
        "id": "WVnfofKptBRt"
      },
      "source": [
        "columns = [k for k in datasets ]\n",
        "output_columns = [\"o_\"+o for o in OUTPUTS]\n",
        "columns.extend(output_columns)"
      ],
      "execution_count": null,
      "outputs": []
    },
    {
      "cell_type": "code",
      "metadata": {
        "id": "E1W2z1TcszrP"
      },
      "source": [
        "input_df = pd.DataFrame.from_dict(big_dic,orient='index', columns = columns)\n",
        "output_df = input_df[[\"o_\"+o for o in OUTPUTS]]\n",
        "input_df.drop(labels=[\"o_\"+o for o in OUTPUTS], axis = 1, inplace=True)"
      ],
      "execution_count": null,
      "outputs": []
    },
    {
      "cell_type": "markdown",
      "metadata": {
        "id": "2UMi5KTtyRsq"
      },
      "source": [
        "From above output\n",
        "- if we dont drop any rows our table size = 4256 entries\n",
        "- if we drop rows containing any if all of outputs missing then our table size = 3039 entries\n",
        "- if we drop rows containing any one of output missing then our table size = 1745 entries\n",
        "\n",
        "so, I think its is better to go with second choice and build different models, but not sure it will not effect performance of the model\n"
      ]
    },
    {
      "cell_type": "markdown",
      "metadata": {
        "id": "rlvdCI-pzVEd"
      },
      "source": [
        "now we have the dataframe containing both inputs and ouputs,our next step is\n",
        "1. split the data into train & test data\n",
        "  1. try to split data based on continents to reduce bias\n",
        "2. build DF model using tensorflow\n",
        "3. check the accuracy of the model"
      ]
    },
    {
      "cell_type": "code",
      "metadata": {
        "id": "KRYgp4465ve1"
      },
      "source": [
        "X_train, X_test, y_train, y_test = train_test_split(input_df, output_df, test_size=0.30, random_state=43)"
      ],
      "execution_count": null,
      "outputs": []
    },
    {
      "cell_type": "code",
      "metadata": {
        "id": "gAi9JoDdGuhE"
      },
      "source": [
        "def combine_dfs(label):\n",
        "  frames      = [X_train,y_train[label]]\n",
        "  le_model_df = pd.concat(frames,axis=1)\n",
        "  le_model_df.dropna(subset=[label],inplace=True)\n",
        "  return le_model_df"
      ],
      "execution_count": null,
      "outputs": []
    },
    {
      "cell_type": "code",
      "metadata": {
        "id": "x2wiwgqk6ZfU"
      },
      "source": [
        "for output in OUTPUTS:\n",
        "  train_ds = tfdf.keras.pd_dataframe_to_tf_dataset(combine_dfs(\"o_\"+output), label=\"o_\"+output, task=tfdf.keras.Task.REGRESSION)\n",
        "  model = tfdf.keras.RandomForestModel(task = tfdf.keras.Task.REGRESSION)\n",
        "  with sys_pipes():\n",
        "    model.fit(x=train_ds)\n",
        "  # Convert it to a TensorFlow dataset\n",
        "  test_ds = tfdf.keras.pd_dataframe_to_tf_dataset(combine_dfs(\"o_\"+output), label=\"o_\"+output, task=tfdf.keras.Task.REGRESSION)\n",
        "\n",
        "  # Evaluate the model\n",
        "  model.compile(metrics=[\"mse\"])\n",
        "  # Evaluate the model on the test dataset.\n",
        "  evaluation = model.evaluate(test_ds, return_dict=True)\n",
        "  print(output.upper())\n",
        "  print(evaluation)\n",
        "  print()\n",
        "  print(f\"MSE: {evaluation['mse']}\")\n",
        "  print(f\"RMSE: {math.sqrt(evaluation['mse'])}\")\n",
        "  print()"
      ],
      "execution_count": null,
      "outputs": []
    },
    {
      "cell_type": "code",
      "metadata": {
        "colab": {
          "base_uri": "https://localhost:8080/",
          "height": 405
        },
        "id": "9km9jt9mBIvM",
        "outputId": "29262084-976f-4583-c10f-6253b4ea4e83"
      },
      "source": [
        "tfdf.model_plotter.plot_model_in_colab(model, tree_idx=0)"
      ],
      "execution_count": null,
      "outputs": [
        {
          "output_type": "execute_result",
          "data": {
            "text/html": [
              "\n",
              "<script src=\"https://d3js.org/d3.v6.min.js\"></script>\n",
              "<div id=\"tree_plot_6d0395638405451aae3a88f56d04970b\"></div>\n",
              "<script>\n",
              "/*\n",
              " * Copyright 2021 Google LLC.\n",
              " * Licensed under the Apache License, Version 2.0 (the \"License\");\n",
              " * you may not use this file except in compliance with the License.\n",
              " * You may obtain a copy of the License at\n",
              " *\n",
              " *     https://www.apache.org/licenses/LICENSE-2.0\n",
              " *\n",
              " * Unless required by applicable law or agreed to in writing, software\n",
              " * distributed under the License is distributed on an \"AS IS\" BASIS,\n",
              " * WITHOUT WARRANTIES OR CONDITIONS OF ANY KIND, either express or implied.\n",
              " * See the License for the specific language governing permissions and\n",
              " * limitations under the License.\n",
              " */\n",
              "\n",
              "/**\n",
              " *  Plotting of decision trees generated by TF-DF.\n",
              " *\n",
              " *  A tree is a recursive structure of node objects.\n",
              " *  A node contains one or more of the following components:\n",
              " *\n",
              " *    - A value: Representing the output of the node. If the node is not a leaf,\n",
              " *      the value is only present for analysis i.e. it is not used for\n",
              " *      predictions.\n",
              " *\n",
              " *    - A condition : For non-leaf nodes, the condition (also known as split)\n",
              " *      defines a binary test to branch to the positive or negative child.\n",
              " *\n",
              " *    - An explanation: Generally a plot showing the relation between the label\n",
              " *      and the condition to give insights about the effect of the condition.\n",
              " *\n",
              " *    - Two children : For non-leaf nodes, the children nodes. The first\n",
              " *      children (i.e. \"node.children[0]\") is the negative children (drawn in\n",
              " *      red). The second children is the positive one (drawn in green).\n",
              " *\n",
              " */\n",
              "\n",
              "/**\n",
              " * Plots a single decision tree into a DOM element.\n",
              " * @param {!options} options Dictionary of configurations.\n",
              " * @param {!tree} raw_tree Recursive tree structure.\n",
              " * @param {string} canvas_id Id of the output dom element.\n",
              " */\n",
              "function display_tree(options, raw_tree, canvas_id) {\n",
              "  console.log(options);\n",
              "\n",
              "  // Determine the node placement.\n",
              "  const tree_struct = d3.tree().nodeSize(\n",
              "      [options.node_y_offset, options.node_x_offset])(d3.hierarchy(raw_tree));\n",
              "\n",
              "  // Boundaries of the node placement.\n",
              "  let x_min = Infinity;\n",
              "  let x_max = -x_min;\n",
              "  let y_min = Infinity;\n",
              "  let y_max = -x_min;\n",
              "\n",
              "  tree_struct.each(d => {\n",
              "    if (d.x > x_max) x_max = d.x;\n",
              "    if (d.x < x_min) x_min = d.x;\n",
              "    if (d.y > y_max) y_max = d.y;\n",
              "    if (d.y < y_min) y_min = d.y;\n",
              "  });\n",
              "\n",
              "  // Size of the plot.\n",
              "  const width = y_max - y_min + options.node_x_size + options.margin * 2;\n",
              "  const height = x_max - x_min + options.node_y_size + options.margin * 2 +\n",
              "      options.node_y_offset - options.node_y_size;\n",
              "\n",
              "  const plot = d3.select(canvas_id);\n",
              "\n",
              "  // Tool tip\n",
              "  options.tooltip = plot.append('div')\n",
              "                        .attr('width', 100)\n",
              "                        .attr('height', 100)\n",
              "                        .style('padding', '4px')\n",
              "                        .style('background', '#fff')\n",
              "                        .style('box-shadow', '4px 4px 0px rgba(0,0,0,0.1)')\n",
              "                        .style('border', '1px solid black')\n",
              "                        .style('font-family', 'sans-serif')\n",
              "                        .style('font-size', options.font_size)\n",
              "                        .style('position', 'absolute')\n",
              "                        .style('z-index', '10')\n",
              "                        .attr('pointer-events', 'none')\n",
              "                        .style('display', 'none');\n",
              "\n",
              "  // Create canvas\n",
              "  const svg = plot.append('svg').attr('width', width).attr('height', height);\n",
              "  const graph =\n",
              "      svg.style('overflow', 'visible')\n",
              "          .append('g')\n",
              "          .attr('font-family', 'sans-serif')\n",
              "          .attr('font-size', options.font_size)\n",
              "          .attr(\n",
              "              'transform',\n",
              "              () => `translate(${options.margin},${\n",
              "                  - x_min + options.node_y_offset / 2 + options.margin})`);\n",
              "\n",
              "  // Plot bounding box.\n",
              "  if (options.show_plot_bounding_box) {\n",
              "    svg.append('rect')\n",
              "        .attr('width', width)\n",
              "        .attr('height', height)\n",
              "        .attr('fill', 'none')\n",
              "        .attr('stroke-width', 1.0)\n",
              "        .attr('stroke', 'black');\n",
              "  }\n",
              "\n",
              "  // Draw the edges.\n",
              "  display_edges(options, graph, tree_struct);\n",
              "\n",
              "  // Draw the nodes.\n",
              "  display_nodes(options, graph, tree_struct);\n",
              "}\n",
              "\n",
              "/**\n",
              " * Draw the nodes of the tree.\n",
              " * @param {!options} options Dictionary of configurations.\n",
              " * @param {!graph} graph D3 search handle containing the graph.\n",
              " * @param {!tree_struct} tree_struct Structure of the tree (node placement,\n",
              " *     data, etc.).\n",
              " */\n",
              "function display_nodes(options, graph, tree_struct) {\n",
              "  const nodes = graph.append('g')\n",
              "                    .selectAll('g')\n",
              "                    .data(tree_struct.descendants())\n",
              "                    .join('g')\n",
              "                    .attr('transform', d => `translate(${d.y},${d.x})`);\n",
              "\n",
              "  nodes.append('rect')\n",
              "      .attr('x', 0.5)\n",
              "      .attr('y', 0.5)\n",
              "      .attr('width', options.node_x_size)\n",
              "      .attr('height', options.node_y_size)\n",
              "      .attr('stroke', 'lightgrey')\n",
              "      .attr('stroke-width', 1)\n",
              "      .attr('fill', 'white')\n",
              "      .attr('y', -options.node_y_size / 2);\n",
              "\n",
              "  // Brackets on the right of condition nodes without children.\n",
              "  non_leaf_node_without_children =\n",
              "      nodes.filter(node => node.data.condition != null && node.children == null)\n",
              "          .append('g')\n",
              "          .attr('transform', `translate(${options.node_x_size},0)`);\n",
              "\n",
              "  non_leaf_node_without_children.append('path')\n",
              "      .attr('d', 'M0,0 C 10,0 0,10 10,10')\n",
              "      .attr('fill', 'none')\n",
              "      .attr('stroke-width', 1.0)\n",
              "      .attr('stroke', '#F00');\n",
              "\n",
              "  non_leaf_node_without_children.append('path')\n",
              "      .attr('d', 'M0,0 C 10,0 0,-10 10,-10')\n",
              "      .attr('fill', 'none')\n",
              "      .attr('stroke-width', 1.0)\n",
              "      .attr('stroke', '#0F0');\n",
              "\n",
              "  const node_content = nodes.append('g').attr(\n",
              "      'transform',\n",
              "      `translate(0,${options.node_padding - options.node_y_size / 2})`);\n",
              "\n",
              "  node_content.append(node => create_node_element(options, node));\n",
              "}\n",
              "\n",
              "/**\n",
              " * Creates the D3 content for a single node.\n",
              " * @param {!options} options Dictionary of configurations.\n",
              " * @param {!node} node Node to draw.\n",
              " * @return {!d3} D3 content.\n",
              " */\n",
              "function create_node_element(options, node) {\n",
              "  // Output accumulator.\n",
              "  let output = {\n",
              "    // Content to draw.\n",
              "    content: d3.create('svg:g'),\n",
              "    // Vertical offset to the next element to draw.\n",
              "    vertical_offset: 0\n",
              "  };\n",
              "\n",
              "  // Conditions.\n",
              "  if (node.data.condition != null) {\n",
              "    display_condition(options, node.data.condition, output);\n",
              "  }\n",
              "\n",
              "  // Values.\n",
              "  if (node.data.value != null) {\n",
              "    display_value(options, node.data.value, output);\n",
              "  }\n",
              "\n",
              "  // Explanations.\n",
              "  if (node.data.explanation != null) {\n",
              "    display_explanation(options, node.data.explanation, output);\n",
              "  }\n",
              "\n",
              "  return output.content.node();\n",
              "}\n",
              "\n",
              "\n",
              "/**\n",
              " * Adds a single line of text inside of a node.\n",
              " * @param {!options} options Dictionary of configurations.\n",
              " * @param {string} text Text to display.\n",
              " * @param {!output} output Output display accumulator.\n",
              " */\n",
              "function display_node_text(options, text, output) {\n",
              "  output.content.append('text')\n",
              "      .attr('x', options.node_padding)\n",
              "      .attr('y', output.vertical_offset)\n",
              "      .attr('alignment-baseline', 'hanging')\n",
              "      .text(text);\n",
              "  output.vertical_offset += 10;\n",
              "}\n",
              "\n",
              "/**\n",
              " * Adds a single line of text inside of a node with a tooltip.\n",
              " * @param {!options} options Dictionary of configurations.\n",
              " * @param {string} text Text to display.\n",
              " * @param {string} tooltip Text in the Tooltip.\n",
              " * @param {!output} output Output display accumulator.\n",
              " */\n",
              "function display_node_text_with_tooltip(options, text, tooltip, output) {\n",
              "  const item = output.content.append('text')\n",
              "                   .attr('x', options.node_padding)\n",
              "                   .attr('alignment-baseline', 'hanging')\n",
              "                   .text(text);\n",
              "\n",
              "  add_tooltip(options, item, () => tooltip);\n",
              "  output.vertical_offset += 10;\n",
              "}\n",
              "\n",
              "/**\n",
              " * Adds a tooltip to a dom element.\n",
              " * @param {!options} options Dictionary of configurations.\n",
              " * @param {!dom} target Dom element to equip with a tooltip.\n",
              " * @param {!func} get_content Generates the html content of the tooltip.\n",
              " */\n",
              "function add_tooltip(options, target, get_content) {\n",
              "  function show(d) {\n",
              "    options.tooltip.style('display', 'block');\n",
              "    options.tooltip.html(get_content());\n",
              "  }\n",
              "\n",
              "  function hide(d) {\n",
              "    options.tooltip.style('display', 'none');\n",
              "  }\n",
              "\n",
              "  function move(d) {\n",
              "    options.tooltip.style('display', 'block');\n",
              "    options.tooltip.style('left', (d.pageX + 5) + 'px');\n",
              "    options.tooltip.style('top', d.pageY + 'px');\n",
              "  }\n",
              "\n",
              "  target.on('mouseover', show);\n",
              "  target.on('mouseout', hide);\n",
              "  target.on('mousemove', move);\n",
              "}\n",
              "\n",
              "/**\n",
              " * Adds a condition inside of a node.\n",
              " * @param {!options} options Dictionary of configurations.\n",
              " * @param {!condition} condition Condition to display.\n",
              " * @param {!output} output Output display accumulator.\n",
              " */\n",
              "function display_condition(options, condition, output) {\n",
              "  threshold_format = d3.format('r');\n",
              "\n",
              "  if (condition.type === 'IS_MISSING') {\n",
              "    display_node_text(options, `${condition.attribute} is missing`, output);\n",
              "    return;\n",
              "  }\n",
              "\n",
              "  if (condition.type === 'IS_TRUE') {\n",
              "    display_node_text(options, `${condition.attribute} is true`, output);\n",
              "    return;\n",
              "  }\n",
              "\n",
              "  if (condition.type === 'NUMERICAL_IS_HIGHER_THAN') {\n",
              "    format = d3.format('r');\n",
              "    display_node_text(\n",
              "        options,\n",
              "        `${condition.attribute} >= ${threshold_format(condition.threshold)}`,\n",
              "        output);\n",
              "    return;\n",
              "  }\n",
              "\n",
              "  if (condition.type === 'CATEGORICAL_IS_IN') {\n",
              "    display_node_text_with_tooltip(\n",
              "        options, `${condition.attribute} in [...]`,\n",
              "        `${condition.attribute} in [${condition.mask}]`, output);\n",
              "    return;\n",
              "  }\n",
              "\n",
              "  if (condition.type === 'CATEGORICAL_SET_CONTAINS') {\n",
              "    display_node_text_with_tooltip(\n",
              "        options, `${condition.attribute} intersect [...]`,\n",
              "        `${condition.attribute} intersect [${condition.mask}]`, output);\n",
              "    return;\n",
              "  }\n",
              "\n",
              "  if (condition.type === 'NUMERICAL_SPARSE_OBLIQUE') {\n",
              "    display_node_text_with_tooltip(\n",
              "        options, `Sparse oblique split...`,\n",
              "        `[${condition.attributes}]*[${condition.weights}]>=${\n",
              "            threshold_format(condition.threshold)}`,\n",
              "        output);\n",
              "    return;\n",
              "  }\n",
              "\n",
              "  display_node_text(\n",
              "      options, `Non supported condition ${condition.type}`, output);\n",
              "}\n",
              "\n",
              "/**\n",
              " * Adds a value inside of a node.\n",
              " * @param {!options} options Dictionary of configurations.\n",
              " * @param {!value} value Value to display.\n",
              " * @param {!output} output Output display accumulator.\n",
              " */\n",
              "function display_value(options, value, output) {\n",
              "  if (value.type === 'PROBABILITY') {\n",
              "    const left_margin = 0;\n",
              "    const right_margin = 50;\n",
              "    const plot_width = options.node_x_size - options.node_padding * 2 -\n",
              "        left_margin - right_margin;\n",
              "\n",
              "    let cusum = Array.from(d3.cumsum(value.distribution));\n",
              "    cusum.unshift(0);\n",
              "    const distribution_plot = output.content.append('g').attr(\n",
              "        'transform', `translate(0,${output.vertical_offset + 0.5})`);\n",
              "\n",
              "    distribution_plot.selectAll('rect')\n",
              "        .data(value.distribution)\n",
              "        .join('rect')\n",
              "        .attr('height', 10)\n",
              "        .attr(\n",
              "            'x',\n",
              "            (d, i) =>\n",
              "                (cusum[i] * plot_width + left_margin + options.node_padding))\n",
              "        .attr('width', (d, i) => d * plot_width)\n",
              "        .style('fill', (d, i) => d3.schemeSet1[i]);\n",
              "\n",
              "    const num_examples =\n",
              "        output.content.append('g')\n",
              "            .attr('transform', `translate(0,${output.vertical_offset})`)\n",
              "            .append('text')\n",
              "            .attr('x', options.node_x_size - options.node_padding)\n",
              "            .attr('alignment-baseline', 'hanging')\n",
              "            .attr('text-anchor', 'end')\n",
              "            .text(`(${value.num_examples})`);\n",
              "\n",
              "    const distribution_details = d3.create('ul');\n",
              "    distribution_details.selectAll('li')\n",
              "        .data(value.distribution)\n",
              "        .join('li')\n",
              "        .append('span')\n",
              "        .text(\n",
              "            (d, i) =>\n",
              "                'class ' + i + ': ' + d3.format('.3%')(value.distribution[i]));\n",
              "\n",
              "    add_tooltip(options, distribution_plot, () => distribution_details.html());\n",
              "    add_tooltip(options, num_examples, () => 'Number of examples');\n",
              "\n",
              "    output.vertical_offset += 10;\n",
              "    return;\n",
              "  }\n",
              "\n",
              "  if (value.type === 'REGRESSION') {\n",
              "    display_node_text(\n",
              "        options,\n",
              "        'value: ' + d3.format('r')(value.value) + ` (` +\n",
              "            d3.format('.6')(value.num_examples) + `)`,\n",
              "        output);\n",
              "    return;\n",
              "  }\n",
              "\n",
              "  display_node_text(options, `Non supported value ${value.type}`, output);\n",
              "}\n",
              "\n",
              "/**\n",
              " * Adds an explanation inside of a node.\n",
              " * @param {!options} options Dictionary of configurations.\n",
              " * @param {!explanation} explanation Explanation to display.\n",
              " * @param {!output} output Output display accumulator.\n",
              " */\n",
              "function display_explanation(options, explanation, output) {\n",
              "  // Margin before the explanation.\n",
              "  output.vertical_offset += 10;\n",
              "\n",
              "  display_node_text(\n",
              "      options, `Non supported explanation ${explanation.type}`, output);\n",
              "}\n",
              "\n",
              "\n",
              "/**\n",
              " * Draw the edges of the tree.\n",
              " * @param {!options} options Dictionary of configurations.\n",
              " * @param {!graph} graph D3 search handle containing the graph.\n",
              " * @param {!tree_struct} tree_struct Structure of the tree (node placement,\n",
              " *     data, etc.).\n",
              " */\n",
              "function display_edges(options, graph, tree_struct) {\n",
              "  // Draw an edge between a parent and a child node with a bezier.\n",
              "  function draw_single_edge(d) {\n",
              "    return 'M' + (d.source.y + options.node_x_size) + ',' + d.source.x + ' C' +\n",
              "        (d.source.y + options.node_x_size + options.edge_rounding) + ',' +\n",
              "        d.source.x + ' ' + (d.target.y - options.edge_rounding) + ',' +\n",
              "        d.target.x + ' ' + d.target.y + ',' + d.target.x;\n",
              "  }\n",
              "\n",
              "  graph.append('g')\n",
              "      .attr('fill', 'none')\n",
              "      .attr('stroke-width', 1.2)\n",
              "      .selectAll('path')\n",
              "      .data(tree_struct.links())\n",
              "      .join('path')\n",
              "      .attr('d', draw_single_edge)\n",
              "      .attr(\n",
              "          'stroke', d => (d.target === d.source.children[0]) ? '#0F0' : '#F00');\n",
              "}\n",
              "\n",
              "display_tree({\"margin\": 10, \"node_x_size\": 160, \"node_y_size\": 28, \"node_x_offset\": 180, \"node_y_offset\": 33, \"font_size\": 10, \"edge_rounding\": 20, \"node_padding\": 2, \"show_plot_bounding_box\": false}, {\"value\": {\"type\": \"REGRESSION\", \"value\": 66.07188415527344, \"num_examples\": 5797.0, \"standard_deviation\": 9.633736537685774}, \"condition\": {\"type\": \"NUMERICAL_IS_HIGHER_THAN\", \"attribute\": \"child_mortality\", \"threshold\": 89.0999984741211}, \"children\": [{\"value\": {\"type\": \"REGRESSION\", \"value\": 57.525264739990234, \"num_examples\": 2446.0, \"standard_deviation\": 7.055895330904305}, \"condition\": {\"type\": \"NUMERICAL_IS_HIGHER_THAN\", \"attribute\": \"child_mortality\", \"threshold\": 171.5}, \"children\": [{\"value\": {\"type\": \"REGRESSION\", \"value\": 52.9984130859375, \"num_examples\": 1261.0, \"standard_deviation\": 5.327106598019579}, \"condition\": {\"type\": \"NUMERICAL_IS_HIGHER_THAN\", \"attribute\": \"wcde-Incomplete_Primary\", \"threshold\": 82.88999938964844}, \"children\": [{\"value\": {\"type\": \"REGRESSION\", \"value\": 50.144771575927734, \"num_examples\": 507.0, \"standard_deviation\": 4.154400905283926}, \"condition\": {\"type\": \"NUMERICAL_IS_HIGHER_THAN\", \"attribute\": \"wcde-Lower_Secondary\", \"threshold\": 7.260000228881836}}, {\"value\": {\"type\": \"REGRESSION\", \"value\": 54.917240142822266, \"num_examples\": 754.0, \"standard_deviation\": 5.166923939948574}, \"condition\": {\"type\": \"NUMERICAL_IS_HIGHER_THAN\", \"attribute\": \"co2_emissions\", \"threshold\": 0.41600000858306885}}]}, {\"value\": {\"type\": \"REGRESSION\", \"value\": 62.34244918823242, \"num_examples\": 1185.0, \"standard_deviation\": 5.249221323857536}, \"condition\": {\"type\": \"NUMERICAL_IS_HIGHER_THAN\", \"attribute\": \"co2_emissions\", \"threshold\": 1.024999976158142}, \"children\": [{\"value\": {\"type\": \"REGRESSION\", \"value\": 64.21876525878906, \"num_examples\": 437.0, \"standard_deviation\": 4.918513056398374}, \"condition\": {\"type\": \"NUMERICAL_IS_HIGHER_THAN\", \"attribute\": \"wcde-Incomplete_Primary\", \"threshold\": 11.100000381469727}}, {\"value\": {\"type\": \"REGRESSION\", \"value\": 61.24625778198242, \"num_examples\": 748.0, \"standard_deviation\": 5.124487929293493}, \"condition\": {\"type\": \"NUMERICAL_IS_HIGHER_THAN\", \"attribute\": \"child_mortality\", \"threshold\": 147.5}}]}]}, {\"value\": {\"type\": \"REGRESSION\", \"value\": 72.3103256225586, \"num_examples\": 3351.0, \"standard_deviation\": 5.654831775523817}, \"condition\": {\"type\": \"NUMERICAL_IS_HIGHER_THAN\", \"attribute\": \"child_mortality\", \"threshold\": 31.450000762939453}, \"children\": [{\"value\": {\"type\": \"REGRESSION\", \"value\": 68.65580749511719, \"num_examples\": 1550.0, \"standard_deviation\": 5.248658804441775}, \"condition\": {\"type\": \"NUMERICAL_IS_HIGHER_THAN\", \"attribute\": \"child_mortality\", \"threshold\": 50.650001525878906}, \"children\": [{\"value\": {\"type\": \"REGRESSION\", \"value\": 67.0870132446289, \"num_examples\": 901.0, \"standard_deviation\": 5.444244774131565}, \"condition\": {\"type\": \"NUMERICAL_IS_HIGHER_THAN\", \"attribute\": \"population\", \"threshold\": 1665000.0}}, {\"value\": {\"type\": \"REGRESSION\", \"value\": 70.83374786376953, \"num_examples\": 649.0, \"standard_deviation\": 4.060151585204377}, \"condition\": {\"type\": \"NUMERICAL_IS_HIGHER_THAN\", \"attribute\": \"population\", \"threshold\": 1085000.0}}]}, {\"value\": {\"type\": \"REGRESSION\", \"value\": 75.45552825927734, \"num_examples\": 1801.0, \"standard_deviation\": 3.795015176043101}, \"condition\": {\"type\": \"NUMERICAL_IS_HIGHER_THAN\", \"attribute\": \"child_mortality\", \"threshold\": 13.350000381469727}, \"children\": [{\"value\": {\"type\": \"REGRESSION\", \"value\": 73.37257385253906, \"num_examples\": 1112.0, \"standard_deviation\": 2.817277355116688}, \"condition\": {\"type\": \"NUMERICAL_IS_HIGHER_THAN\", \"attribute\": \"wcde-Incomplete_Primary\", \"threshold\": 1.690000057220459}}, {\"value\": {\"type\": \"REGRESSION\", \"value\": 78.81726837158203, \"num_examples\": 689.0, \"standard_deviation\": 2.5559068927576267}, \"condition\": {\"type\": \"NUMERICAL_IS_HIGHER_THAN\", \"attribute\": \"child_mortality\", \"threshold\": 7.605000019073486}}]}]}]}, \"#tree_plot_6d0395638405451aae3a88f56d04970b\")\n",
              "</script>\n"
            ],
            "text/plain": [
              "<IPython.core.display.HTML object>"
            ]
          },
          "metadata": {},
          "execution_count": 18
        }
      ]
    },
    {
      "cell_type": "code",
      "metadata": {
        "id": "9dd29dXaO8AB"
      },
      "source": [
        "# %set_cell_height 300\n",
        "\n",
        "model.summary()"
      ],
      "execution_count": null,
      "outputs": []
    },
    {
      "cell_type": "markdown",
      "metadata": {
        "id": "Ck40I_2pO2t8"
      },
      "source": [
        "# RNN Algorithm"
      ]
    },
    {
      "cell_type": "code",
      "metadata": {
        "id": "WoTPvb0hO2BL"
      },
      "source": [
        ""
      ],
      "execution_count": null,
      "outputs": []
    }
  ]
}