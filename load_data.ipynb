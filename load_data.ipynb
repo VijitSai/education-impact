{
 "cells": [
  {
   "cell_type": "code",
   "execution_count": 1,
   "metadata": {},
   "outputs": [],
   "source": [
    "from pandas import read_csv"
   ]
  },
  {
   "cell_type": "code",
   "execution_count": 6,
   "metadata": {},
   "outputs": [],
   "source": [
    "datsets_path = {\n",
    "                    \"child_mortality\"               :   \"datasets/child_mortality_0_5_year_olds_dying_per_1000_born.csv\",\n",
    "                    \"children_per_woman\"            :   \"datasets/children_per_woman_total_fertility.csv\",\n",
    "                    \"co2_emissions\"                 :   \"datasets/co2_emissions_tonnes_per_person.csv\",\n",
    "                    \"population\"                    :   \"datasets/converted_pop.csv\",\n",
    "                    \"expenditure_per_student\"       :   \"datasets/expenditure_per_student_secondary_percent_of_gdp_per_person.csv\",\n",
    "                    \"food_supply\"                   :   \"datasets/food_supply_kilocalories_per_person_and_day.csv\",\n",
    "                    \"gdp_per_captia\"                :   \"datasets/gdp_per_capita_yearly_growth.csv\",\n",
    "                    \"gini_index\"                    :   \"datasets/gini.csv\",\n",
    "                    \"infant_mortality\"              :   \"datasets/Infant_Mortality_Rate.csv\",\n",
    "                    \"life_expectancy\"               :   \"datasets/life_expectancy_years.csv\",\n",
    "                    \"malnutrition\"                  :   \"datasets/malnutrition_weight_for_age_percent_of_children_under_5.csv\",\n",
    "                    \"poverty_index\"                 :   \"datasets/mincpcap_cppp.csv\",\n",
    "                    \"maternal_mortality\"            :   \"datasets/mmr_who.csv\",\n",
    "                    \"people_in_poverty\"             :   \"datasets/number_of_people_in_poverty.csv\",\n",
    "                    \"primary_completion\"            :   \"datasets/primary_school_completion_percent_of_girls.csv\",\n",
    "                    \"ratio_b/g_in_primary\"          :   \"datasets/ratio_of_girls_to_boys_in_primary_and_secondary_education_perc.csv\",\n",
    "                    \"sex_ratio\"                     :   \"datasets/sex-ratio.csv\"\n",
    "                }\n",
    "\n"
   ]
  },
  {
   "cell_type": "code",
   "execution_count": null,
   "metadata": {},
   "outputs": [],
   "source": [
    "def find_common_countries():\n",
    "    pass"
   ]
  },
  {
   "cell_type": "code",
   "execution_count": 9,
   "metadata": {},
   "outputs": [
    {
     "name": "stdout",
     "output_type": "stream",
     "text": [
      "<bound method NDFrame.head of                   country   1960   1961   1962   1963   1964   1965   1966  \\\n",
      "0             Afghanistan  357.0  351.0  345.0  340.0  335.0  330.0  324.0   \n",
      "1                  Angola  308.0  305.0  302.0  298.0  295.0  291.0  287.0   \n",
      "2                 Albania  188.0  180.0  173.0  166.0  160.0  153.0  147.0   \n",
      "3                 Andorra   36.6   34.5   32.6   31.0   29.6   28.5   27.5   \n",
      "4    United Arab Emirates  200.0  189.0  180.0  170.0  160.0  149.0  138.0   \n",
      "..                    ...    ...    ...    ...    ...    ...    ...    ...   \n",
      "192                 Samoa  135.0  131.0  127.0  124.0  120.0  117.0  114.0   \n",
      "193                 Yemen  418.0  414.0  409.0  402.0  394.0  385.0  375.0   \n",
      "194          South Africa  191.0  188.0  184.0  181.0  177.0  174.0  170.0   \n",
      "195                Zambia  206.0  202.0  198.0  195.0  192.0  190.0  189.0   \n",
      "196              Zimbabwe  151.0  147.0  142.0  138.0  134.0  129.0  126.0   \n",
      "\n",
      "      1967   1968  ...    2006    2007    2008    2009    2010    2011  \\\n",
      "0    319.0  314.0  ...  104.00  100.00   96.00   91.90   88.00   84.10   \n",
      "1    283.0  279.0  ...  157.00  148.00  138.00  129.00  120.00  113.00   \n",
      "2    142.0  136.0  ...   17.90   16.70   15.50   14.40   13.30   12.30   \n",
      "3     26.6   25.9  ...    5.05    4.84    4.62    4.39    4.18    3.98   \n",
      "4    128.0  118.0  ...    9.44    9.18    8.93    8.69    8.48    8.28   \n",
      "..     ...    ...  ...     ...     ...     ...     ...     ...     ...   \n",
      "192  111.0  108.0  ...   18.90   18.90   18.90   24.20   18.70   18.50   \n",
      "193  364.0  352.0  ...   68.40   64.60   61.00   58.00   56.00   55.10   \n",
      "194  165.0  161.0  ...   76.00   71.00   64.80   58.00   52.50   46.70   \n",
      "195  188.0  186.0  ...  101.00   95.40   90.40   85.10   80.30   77.20   \n",
      "196  122.0  119.0  ...  101.00  100.00   97.00   92.70   86.30   79.00   \n",
      "\n",
      "       2012   2013   2014   2015  \n",
      "0     80.50  77.00  73.50  70.40  \n",
      "1    105.00  98.40  92.90  88.10  \n",
      "2     11.40  10.70  10.10   9.60  \n",
      "3      3.79   3.61   3.43   3.27  \n",
      "4      8.13   8.00   7.91   7.83  \n",
      "..      ...    ...    ...    ...  \n",
      "192   18.30  17.90  17.60  17.20  \n",
      "193   55.00  55.00  55.00  55.00  \n",
      "194   43.30  41.20  39.50  37.70  \n",
      "195   74.30  70.70  66.90  64.60  \n",
      "196   69.80  62.30  57.50  54.30  \n",
      "\n",
      "[197 rows x 57 columns]>\n"
     ]
    },
    {
     "data": {
      "text/plain": [
       "array([['Afghanistan', 357.0, 351.0, ..., 77.0, 73.5, 70.4],\n",
       "       ['Angola', 308.0, 305.0, ..., 98.4, 92.9, 88.1],\n",
       "       ['Albania', 188.0, 180.0, ..., 10.7, 10.1, 9.6],\n",
       "       ...,\n",
       "       ['South Africa', 191.0, 188.0, ..., 41.2, 39.5, 37.7],\n",
       "       ['Zambia', 206.0, 202.0, ..., 70.7, 66.9, 64.6],\n",
       "       ['Zimbabwe', 151.0, 147.0, ..., 62.3, 57.5, 54.3]], dtype=object)"
      ]
     },
     "execution_count": 9,
     "metadata": {},
     "output_type": "execute_result"
    }
   ],
   "source": [
    "df = read_csv(datsets_path[\"child_mortality\"])\n",
    "print(df.head)\n",
    "data = df.values\n",
    "data\n"
   ]
  }
 ],
 "metadata": {
  "interpreter": {
   "hash": "e534e48711db4d1e1c48977d0d14ff85b1f16d41bcc4fdfd88268a329b3c9d66"
  },
  "kernelspec": {
   "display_name": "Python 3.7.4 64-bit",
   "name": "python3"
  },
  "language_info": {
   "codemirror_mode": {
    "name": "ipython",
    "version": 3
   },
   "file_extension": ".py",
   "mimetype": "text/x-python",
   "name": "python",
   "nbconvert_exporter": "python",
   "pygments_lexer": "ipython3",
   "version": "3.7.4"
  },
  "orig_nbformat": 4
 },
 "nbformat": 4,
 "nbformat_minor": 2
}
